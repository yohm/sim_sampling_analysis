{
 "cells": [
  {
   "cell_type": "code",
   "execution_count": null,
   "metadata": {},
   "outputs": [],
   "source": [
    "import math\n",
    "import numpy as np\n",
    "import matplotlib.pyplot as plt\n",
    "from scipy.stats import binom\n",
    "\n"
   ]
  },
  {
   "cell_type": "code",
   "execution_count": null,
   "metadata": {},
   "outputs": [],
   "source": [
    "h = np.linspace(0.0, 1.0, num=1000)[1::] # exclude the first because it can diverge\n",
    "kappa = np.arange(0,300)\n",
    "k = np.arange(0,200)"
   ]
  },
  {
   "cell_type": "code",
   "execution_count": null,
   "metadata": {},
   "outputs": [],
   "source": [
    "def rho(h, alpha=1.0, x_0=0.2):\n",
    "    # Weibull distribution\n",
    "    return alpha/x_0*(h/x_0)**(alpha-1) * np.exp( -(h/x_0)**alpha )\n",
    "    \n",
    "plt.plot(h, rho(h))\n",
    "dh = h[1]-h[0]\n",
    "np.sum(rho(h))*dh"
   ]
  },
  {
   "cell_type": "code",
   "execution_count": null,
   "metadata": {},
   "outputs": [],
   "source": [
    "def p_kappa(x):\n",
    "    # normal distribution (for now)\n",
    "    mean = 150.0\n",
    "    sigma = 1.0\n",
    "    return 1.0/math.sqrt(2.0*math.pi*sigma**2) * np.exp( -(x-mean)**2/(2.0*sigma**2) )\n",
    "\n",
    "plt.plot(kappa,p_kappa(kappa))"
   ]
  },
  {
   "cell_type": "code",
   "execution_count": null,
   "metadata": {},
   "outputs": [],
   "source": [
    "def r(h1, h2):\n",
    "    # generalized mean\n",
    "    return np.minimum(h1,h2)"
   ]
  },
  {
   "cell_type": "code",
   "execution_count": null,
   "metadata": {},
   "outputs": [],
   "source": [
    "def r_bar_h(h):\n",
    "    # sum_{h'} rho(h') r(h,h')\n",
    "    h_prime = np.copy(h)\n",
    "    dh = h_prime[1] - h_prime[0]\n",
    "    h_prime = h_prime.reshape( [1,h_prime.shape[0]] )\n",
    "    #print(h,h_prime)\n",
    "    rhh = r(h.reshape([h.shape[0],1]), h_prime)\n",
    "    dr = rhh*rho(h)*dh\n",
    "    #print(dr)\n",
    "    return np.sum(dr,axis=1)\n",
    "    \n",
    "plt.plot(h, r_bar_h(h))"
   ]
  },
  {
   "cell_type": "code",
   "execution_count": null,
   "metadata": {},
   "outputs": [],
   "source": [
    "def r_bar():\n",
    "    x = np.copy(h)\n",
    "    dx = x[1]-x[0]\n",
    "    y = r_bar_h(x) * rho(x)\n",
    "    return np.sum(y)*dx\n",
    "\n",
    "r_bar()"
   ]
  },
  {
   "cell_type": "code",
   "execution_count": null,
   "metadata": {},
   "outputs": [],
   "source": [
    "def propagator(k, h, kappa):\n",
    "    # g(k|h,kappa) = \\binom(kappa, k) r(h)^k ( 1-r(h))^{kappa-k}\n",
    "    p = r_bar_h(h)\n",
    "    _p = p.reshape([p.shape[0],1])\n",
    "    #print(p, _kappa)\n",
    "    b = binom(kappa, _p)\n",
    "    _k = k.reshape([k.shape[0],1,1])\n",
    "    #print(_k)\n",
    "    return b.pmf(_k)\n",
    "\n",
    "#k = np.array([9,10,11])\n",
    "#_k = np.arange(0,100)\n",
    "#h = np.array( [0.2,0.3,0.4,0.5] )\n",
    "#_h = np.linspace(0.0, 1.0, num=100)[1::]\n",
    "#kappa = np.array([100,110,120,130,140])\n",
    "#_kappa = np.arange(0,150)\n",
    "g = propagator(k, h, kappa)\n",
    "print(g.shape)\n",
    "#plt.plot(k, g[:,50,100])\n",
    "#plt.plot(h, g[20,:,100])\n",
    "plt.plot(kappa, g[30,50,:])"
   ]
  },
  {
   "cell_type": "code",
   "execution_count": null,
   "metadata": {},
   "outputs": [],
   "source": [
    "def k_bar_h(h):\n",
    "    kappa_mean = np.sum( p_kappa(kappa) * kappa )\n",
    "    #print(kappa_mean)\n",
    "    return kappa_mean * r_bar_h(h)\n",
    "\n",
    "plt.plot(h, k_bar_h(h))"
   ]
  },
  {
   "cell_type": "code",
   "execution_count": null,
   "metadata": {},
   "outputs": [],
   "source": [
    "def P_k(k):\n",
    "    dh = h[1] - h[0]\n",
    "    g = propagator(k,h,kappa)\n",
    "    g_rho = g * rho(h).reshape([1,h.shape[0],1])\n",
    "    gh = np.sum(g_rho, axis = 1) * dh\n",
    "    gh_Pkappa = gh * p_kappa(kappa).reshape([1, kappa.shape[0]])\n",
    "    return np.sum(gh_Pkappa, axis = 1)\n",
    "\n",
    "plt.yscale(\"log\")\n",
    "plt.ylim(1.0e-4,1)\n",
    "plt.plot(k, P_k(k))\n",
    "P_k(k)[0:10]"
   ]
  },
  {
   "cell_type": "code",
   "execution_count": null,
   "metadata": {},
   "outputs": [],
   "source": [
    "n=150\n",
    "p = 0.4\n",
    "b = binom(n,p)\n",
    "x = np.arange(binom.ppf(0.01, n, p), binom.ppf(0.99, n, p))\n",
    "plt.plot(x, b.pmf(x))"
   ]
  }
 ],
 "metadata": {
  "kernelspec": {
   "display_name": "Python 3",
   "language": "python",
   "name": "python3"
  },
  "language_info": {
   "codemirror_mode": {
    "name": "ipython",
    "version": 3
   },
   "file_extension": ".py",
   "mimetype": "text/x-python",
   "name": "python",
   "nbconvert_exporter": "python",
   "pygments_lexer": "ipython3",
   "version": "3.7.0"
  }
 },
 "nbformat": 4,
 "nbformat_minor": 2
}
