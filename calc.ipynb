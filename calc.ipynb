{
 "cells": [
  {
   "cell_type": "code",
   "execution_count": null,
   "metadata": {},
   "outputs": [],
   "source": [
    "import math\n",
    "import numpy as np\n",
    "import matplotlib.pyplot as plt\n",
    "from scipy.stats import binom\n",
    "\n"
   ]
  },
  {
   "cell_type": "code",
   "execution_count": null,
   "metadata": {},
   "outputs": [],
   "source": [
    "h = np.linspace(0.0, 1.0, num=500)[1::] # exclude the first because it can diverge\n",
    "dh = h[1] - h[0]\n",
    "kappa = np.arange(0,300)\n",
    "k = np.arange(0,200)"
   ]
  },
  {
   "cell_type": "code",
   "execution_count": null,
   "metadata": {},
   "outputs": [],
   "source": [
    "def _rho(alpha=1.0, x_0=0.3):\n",
    "    # Weibull distribution\n",
    "    return alpha/x_0*(h/x_0)**(alpha-1) * np.exp( -(h/x_0)**alpha )\n",
    "    \n",
    "rho = _rho()\n",
    "plt.plot(h, rho)\n",
    "dh = h[1]-h[0]\n",
    "np.sum(rho)*dh"
   ]
  },
  {
   "cell_type": "code",
   "execution_count": null,
   "metadata": {},
   "outputs": [],
   "source": [
    "def _p_kappa():\n",
    "    # delta function\n",
    "    return np.where(kappa == 150, 1, 0)\n",
    "    # normal distribution (for now)\n",
    "    #mean = 150.0\n",
    "    #sigma = 1.0\n",
    "    #return 1.0/math.sqrt(2.0*math.pi*sigma**2) * np.exp( -(kappa-mean)**2/(2.0*sigma**2) )\n",
    "\n",
    "p_kappa = _p_kappa()\n",
    "plt.plot(kappa,p_kappa)"
   ]
  },
  {
   "cell_type": "code",
   "execution_count": null,
   "metadata": {},
   "outputs": [],
   "source": [
    "def r(h1, h2):\n",
    "    # generalized mean\n",
    "    return np.minimum(h1,h2)\n",
    "    #return np.maximum(h1,h2)\n",
    "    #return np.sqrt(h1*h2)"
   ]
  },
  {
   "cell_type": "code",
   "execution_count": null,
   "metadata": {},
   "outputs": [],
   "source": [
    "def _r_bar_h():\n",
    "    # sum_{h'} rho(h') r(h,h')\n",
    "    h_prime = np.copy(h).reshape([1,h.shape[0]])\n",
    "    h_ = h.reshape( [h.shape[0],1] )\n",
    "    #print(h,h_prime)\n",
    "    rhh = r(h_, h_prime)\n",
    "    #print(rhh)\n",
    "    dr = rhh*rho.reshape([1,h.shape[0]])*dh\n",
    "    #print(dr)\n",
    "    return np.sum(dr,axis=1)\n",
    "    \n",
    "r_bar_h = _r_bar_h()\n",
    "print(r_bar_h.shape)\n",
    "plt.plot(h, r_bar_h)"
   ]
  },
  {
   "cell_type": "code",
   "execution_count": null,
   "metadata": {},
   "outputs": [],
   "source": [
    "def r_bar():\n",
    "    y = r_bar_h * rho * dh\n",
    "    return np.sum(y)\n",
    "\n",
    "r_bar()"
   ]
  },
  {
   "cell_type": "code",
   "execution_count": null,
   "metadata": {},
   "outputs": [],
   "source": [
    "def _propagator():\n",
    "    # g(k|h,kappa) = \\binom(kappa, k) r(h)^k ( 1-r(h))^{kappa-k}\n",
    "    p = r_bar_h\n",
    "    _p = p.reshape([1,p.shape[0],1])\n",
    "    #print(p, _kappa)\n",
    "    _kappa = kappa.reshape([1,1,kappa.shape[0]])\n",
    "    b = binom(_kappa, _p)\n",
    "    #print(b.shape)\n",
    "    _k = k.reshape([k.shape[0],1,1])\n",
    "    #print(_k)\n",
    "    return b.pmf(_k)\n",
    "\n",
    "#k = np.array([9,10,11])\n",
    "#_k = np.arange(0,100)\n",
    "#h = np.array( [0.2,0.3,0.4,0.5] )\n",
    "#_h = np.linspace(0.0, 1.0, num=100)[1::]\n",
    "#kappa = np.array([100,110,120,130,140])\n",
    "#_kappa = np.arange(0,150)\n",
    "g = _propagator()\n",
    "print(g.shape)\n",
    "plt.plot(k, g[:,300,150])\n",
    "#plt.plot(h, g[20,:,100])\n",
    "#plt.plot(kappa, g[30,50,:])"
   ]
  },
  {
   "cell_type": "code",
   "execution_count": null,
   "metadata": {},
   "outputs": [],
   "source": [
    "def _k_bar_h():\n",
    "    kappa_mean = np.sum( p_kappa * kappa )\n",
    "    #print(kappa_mean)\n",
    "    return kappa_mean * r_bar_h\n",
    "\n",
    "k_bar_h = _k_bar_h()\n",
    "plt.plot(h, k_bar_h)"
   ]
  },
  {
   "cell_type": "code",
   "execution_count": null,
   "metadata": {},
   "outputs": [],
   "source": [
    "def _P_k():\n",
    "    _g = g * rho.reshape([1,h.shape[0],1]) * p_kappa.reshape([1,1,kappa.shape[0]]) * dh\n",
    "    return np.sum(_g, axis=(1,2))\n",
    "    #gh = np.sum(g_rho, axis = 1) * dh\n",
    "    #gh_Pkappa = gh * p_kappa.reshape([1, kappa.shape[0]])\n",
    "    #return np.sum(gh_Pkappa, axis = 1)\n",
    "\n",
    "P_k = _P_k()\n",
    "plt.yscale(\"log\")\n",
    "plt.ylim(1.0e-4,1.0e-1)\n",
    "plt.xlim(0,50)\n",
    "plt.plot(k, P_k)\n",
    "P_k[0:10]"
   ]
  },
  {
   "cell_type": "code",
   "execution_count": null,
   "metadata": {},
   "outputs": [],
   "source": [
    "# degree correlation\n",
    "\n",
    "def _kappa_nn_bar_kappa():\n",
    "    # \\bar{\\kappa}_{nn}(\\kappa) = \\sum_{\\kappa'} \\kappa' p_o(\\kappa' | \\kappa)\n",
    "    # tentatively assume P(kappa'|kappa) = P(kappa)\n",
    "    kappa_mean = np.sum(kappa * p_kappa)\n",
    "    return np.full(kappa.shape, kappa_mean)\n",
    "\n",
    "kappa_nn_bar_kappa = _kappa_nn_bar_kappa()\n",
    "plt.plot(kappa, kappa_nn_bar_kappa)"
   ]
  },
  {
   "cell_type": "code",
   "execution_count": null,
   "metadata": {},
   "outputs": [],
   "source": [
    "def _r_nn_h():\n",
    "    # h, h_prime are axis=0,1, respectively.\n",
    "    nh = h.shape[0]\n",
    "    h_prime = np.copy(h).reshape([1,nh])\n",
    "    rho_h_prime = rho.reshape([1,nh])\n",
    "    r_bar_h_prime = r_bar_h.reshape([1,nh])\n",
    "    r_bar_h_ = r_bar_h.reshape( [nh,1] )\n",
    "    h_ = h.reshape( [nh,1] )\n",
    "    x = r( h_, h_prime ) * rho_h_prime * r_bar_h_prime / r_bar_h_\n",
    "    return np.sum( x, axis=1 ) * dh\n",
    "    \n",
    "r_nn_h = _r_nn_h()\n",
    "plt.plot(h, r_nn_h)\n",
    "plt.plot(h, r_bar_h)"
   ]
  },
  {
   "cell_type": "code",
   "execution_count": null,
   "metadata": {},
   "outputs": [],
   "source": [
    "def _k_nn_bar_k():\n",
    "    # k, h, kappa are axis=0,1,2, respectively\n",
    "    nk = k.shape[0]\n",
    "    nh = h.shape[0]\n",
    "    nkappa = kappa.shape[0]\n",
    "    p_k_ = P_k.reshape( [nk,1,1,] )\n",
    "    rho_h_ = rho.reshape( [1,nh,1] )\n",
    "    p_kappa_ = p_kappa.reshape( [1,1,nkappa] )\n",
    "    r_nn_h_ = r_nn_h.reshape( [1,nh,1] )\n",
    "    kappa_nn_bar_kappa_ = kappa_nn_bar_kappa.reshape( [1,1,nkappa] )\n",
    "    #g_p_k_ = np.where( p_k_ > 0.0, g/p_k_, 0.0)\n",
    "    return 1 + np.sum( g / p_k_ * rho_h_ * p_kappa_ * r_nn_h_ * (kappa_nn_bar_kappa_ -1), axis=(1,2) ) * dh\n",
    "\n",
    "k_nn_bar_k = _k_nn_bar_k()\n",
    "print(k_nn_bar_k)\n",
    "plt.xscale(\"log\")\n",
    "plt.xlim(1.0e0, 1.0e2)\n",
    "plt.plot(k, k_nn_bar_k)"
   ]
  },
  {
   "cell_type": "code",
   "execution_count": null,
   "metadata": {},
   "outputs": [],
   "source": [
    "# clustering coefficient\n",
    "\n",
    "def _p_hprime_given_h():\n",
    "    # h,h' are axis-0,1\n",
    "    # p(h'|h) = r(h',h) rho(h') / r_bar(h)\n",
    "    nh = h.shape[0]\n",
    "    h_ = h.reshape( (nh,1) )\n",
    "    h_prime = h.reshape( (1,nh) )\n",
    "    rho_hprime = rho.reshape( (1,nh) )\n",
    "    rbar_h = r_bar_h.reshape( (nh,1) )\n",
    "    return r(h_, h_prime) * rho_hprime / rbar_h\n",
    "\n",
    "p_hprime_given_h = _p_hprime_given_h()\n",
    "#plt.plot(h, p_hprime_given_h[:,100])\n",
    "#h_bar_given_h = np.sum( p_hprime_given_h * h.reshape( (1,h.shape[0]) ), axis=1) * dh\n",
    "#plt.plot(h, h_bar_given_h)\n",
    "\n",
    "def _c_h():\n",
    "    # h, h', h'' are axis-0,1,2, respectively\n",
    "    # \\sum_{h', h''} = r(h', h'') * p(h'|h) * p(h''|h)\n",
    "    nh = h.shape[0]\n",
    "    h_ = h.reshape( (nh,1,1) )\n",
    "    h_prime = h.reshape( (1,nh,1) )\n",
    "    h_prime2 = h.reshape( (1,1,nh) )\n",
    "    p_hprime_given_h_ = p_hprime_given_h.reshape( (nh,nh,1) )\n",
    "    p_hprime2_given_h_ = p_hprime_given_h.reshape( (nh,1,nh) )\n",
    "    r_ = r(h_prime, h_prime2).reshape( (1,nh,nh) )\n",
    "    return np.sum( r_ * p_hprime_given_h_ * p_hprime2_given_h_, axis=(1,2) ) * dh * dh\n",
    "\n",
    "c_h = _c_h()\n",
    "#plt.plot(h, c_h)\n",
    "\n",
    "def _c_k():\n",
    "    # k, h, kappa are axis-0,1,2, respectively\n",
    "    # 1/P(k) * \\sum_{h,\\kappa} g(k|h,\\kappa) rho(h) P(\\kappa) c_h c_o(\\kappa)\n",
    "    nh = h.shape[0]\n",
    "    nk = k.shape[0]\n",
    "    nkappa = kappa.shape[0]\n",
    "    #_P_k = P_k.reshape( (nk,1,1) )\n",
    "    _rho_h = rho.reshape( (1,nh,1) )\n",
    "    _p_kappa = p_kappa.reshape( (1,1,nkappa) )\n",
    "    _c_h = c_h.reshape( (1,nh,1) )\n",
    "    _c_o_kappa = 0.1\n",
    "    return 1.0 / P_k * np.sum( g * _rho_h * _p_kappa * _c_h * _c_o_kappa, axis=(1,2) ) * dh\n",
    "\n",
    "c_k = _c_k()\n",
    "plt.yscale(\"log\")\n",
    "plt.xscale(\"log\")\n",
    "plt.xlim(1,100)\n",
    "plt.plot(k, c_k)\n",
    "\n",
    "#c_h_kappa = _c_h_kappa()\n",
    "#plt.plot(h, c_h_kappa[:,150])"
   ]
  },
  {
   "cell_type": "code",
   "execution_count": null,
   "metadata": {},
   "outputs": [],
   "source": []
  }
 ],
 "metadata": {
  "kernelspec": {
   "display_name": "Python 3",
   "language": "python",
   "name": "python3"
  },
  "language_info": {
   "codemirror_mode": {
    "name": "ipython",
    "version": 3
   },
   "file_extension": ".py",
   "mimetype": "text/x-python",
   "name": "python",
   "nbconvert_exporter": "python",
   "pygments_lexer": "ipython3",
   "version": "3.7.0"
  }
 },
 "nbformat": 4,
 "nbformat_minor": 2
}
