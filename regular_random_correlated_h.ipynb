{
 "cells": [
  {
   "cell_type": "code",
   "execution_count": null,
   "metadata": {},
   "outputs": [],
   "source": [
    "import networkx as nx\n",
    "import random\n",
    "import matplotlib.pyplot as plt\n",
    "import collections\n",
    "import numpy as np"
   ]
  },
  {
   "cell_type": "code",
   "execution_count": null,
   "metadata": {},
   "outputs": [],
   "source": [
    "N = 5000\n",
    "kappa_0 = 150\n",
    "#g = nx.random_regular_graph(kappa_0, N, 1234)\n",
    "g = nx.erdos_renyi_graph(N, kappa_0/N, seed=1234)\n",
    "len(g)"
   ]
  },
  {
   "cell_type": "code",
   "execution_count": null,
   "metadata": {},
   "outputs": [],
   "source": [
    "def rho_h(N, alpha, h_0, seed=3420):\n",
    "    np.random.seed(seed)\n",
    "    hs = []\n",
    "    while True:\n",
    "        if len(hs) == N:\n",
    "            return hs\n",
    "        h = np.random.weibull(alpha, N-len(hs)) * h_0\n",
    "        #print(h[h<0.2].shape)\n",
    "        hs += h[h<1.0].tolist()\n",
    "\n",
    "attr = {i:x for i,x in enumerate( rho_h(N,0.8,0.1) ) }\n",
    "#attr = {i:(1.0 if i%2==0 else 0.0) for i in range(N)}\n",
    "nx.set_node_attributes(g, attr, \"h\")\n",
    "g.nodes[6]"
   ]
  },
  {
   "cell_type": "code",
   "execution_count": null,
   "metadata": {},
   "outputs": [],
   "source": [
    "def calc_hdiff(g):\n",
    "    total = 0\n",
    "    d = 0.0\n",
    "    for e in g.edges:\n",
    "        total += 1\n",
    "        d += abs(g.nodes[e[0]]['h'] - g.nodes[e[1]]['h'])\n",
    "    return(d, total)\n",
    "d,total = calc_hdiff(g)\n",
    "print(d/total)\n",
    "\n",
    "def calc_local_hdiff(g, i):\n",
    "    hi = g.nodes[i]['h']\n",
    "    total = 0\n",
    "    d = 0.0\n",
    "    for j in g[i]:\n",
    "        hj = g.nodes[j]['h']\n",
    "        d += abs(hi - hj)\n",
    "        total += 1\n",
    "    return (d, total)\n",
    "\n",
    "print(calc_local_hdiff(g,1))"
   ]
  },
  {
   "cell_type": "code",
   "execution_count": null,
   "metadata": {},
   "outputs": [],
   "source": [
    "# swap attributes of node i and j\n",
    "def swap_h(g, i, j):\n",
    "    temp = g.nodes[i]['h']\n",
    "    g.nodes[i]['h'] = g.nodes[j]['h']\n",
    "    g.nodes[j]['h'] = temp\n",
    "swap_h(g, 0, 1)"
   ]
  },
  {
   "cell_type": "code",
   "execution_count": null,
   "metadata": {},
   "outputs": [],
   "source": [
    "def iterate_swap(g, target_q=0.6, max_iterate=1000, seed = 9876):\n",
    "    _g = g.copy()\n",
    "    plot_x = []\n",
    "    plot_y = []\n",
    "    plot_y2 = []\n",
    "    random.seed(seed)\n",
    "    q,ne = calc_hdiff(_g)\n",
    "    target = ne * target_q\n",
    "    es = list(_g.edges)\n",
    "    for t in range(max_iterate):\n",
    "        if q == target:\n",
    "            print(t, \"reached target\")\n",
    "            break\n",
    "        if t % 100 == 0:\n",
    "            plot_x.append(t)\n",
    "            plot_y.append(q)\n",
    "            plot_y2.append(target)\n",
    "        if t % (max_iterate/100) == 0:\n",
    "            print(t,q,target)\n",
    "        #r = random.randrange(0,len(es))\n",
    "        #n1,n2 = es[r]\n",
    "        n1 = random.randrange(0, N)\n",
    "        n2 = random.randrange(0, N)\n",
    "        if _g.nodes[n1]['h'] == _g.nodes[n2]['h']:\n",
    "            continue\n",
    "        pn1 = calc_local_hdiff(_g,n1)[0]\n",
    "        pn2 = calc_local_hdiff(_g,n2)[0]\n",
    "        swap_h(_g,n1,n2)\n",
    "        pn1_n = calc_local_hdiff(_g,n1)[0]\n",
    "        pn2_n = calc_local_hdiff(_g,n2)[0]\n",
    "        q2 = (pn1_n-pn1) + (pn2_n-pn2) + q\n",
    "        #print(p2,p,pn1_n,pn1,pn2_n,pn2)\n",
    "        #assert( p2 == calc_homophily(g)[0] )\n",
    "        if abs(q-target) <= abs(q2-target):\n",
    "            swap_h(_g,n1,n2)  # reject the swap\n",
    "            #print(\"rejected\")\n",
    "        else:\n",
    "            #print(\"accepted\")\n",
    "            q = q2\n",
    "    plt.plot(plot_x, plot_y, label=\"actual\")\n",
    "    plt.plot(plot_x, plot_y2, label=\"target\")\n",
    "    return _g\n",
    "\n",
    "    \n",
    "g_swap = iterate_swap(g,target_q=0.1, max_iterate=100000)\n",
    "p,ne = calc_hdiff(g_swap)\n",
    "print(p/ne)\n",
    "p,ne = calc_hdiff(g)\n",
    "print(p/ne)"
   ]
  },
  {
   "cell_type": "code",
   "execution_count": null,
   "metadata": {},
   "outputs": [],
   "source": [
    "def gen_mean(x,y,beta):  # when beta<=-10 or >=10, minimum or maximum is used\n",
    "    if beta == 0:\n",
    "        return np.sqrt(x*y)\n",
    "    elif beta <= -10:\n",
    "        return np.minimum(x,y)\n",
    "    elif beta >= 10:\n",
    "        return np.maximum(x,y)\n",
    "    else:\n",
    "        return ((x**beta+y**beta)/2)**(1.0/beta)\n",
    "\n",
    "r = lambda x, y: gen_mean(x,y,-10)\n",
    "\n",
    "\n",
    "def run_sampling(g, seed = 3456):\n",
    "    random.seed(seed)\n",
    "    # r(h,h') = h+h'/2   i.e. h = (0.6, 0.4)\n",
    "    g2 = nx.Graph()\n",
    "    g2.add_nodes_from(range(N))\n",
    "    new_edges = []\n",
    "    for e in g.edges:\n",
    "        h1 = g.nodes[e[0]]['h']\n",
    "        h2 = g.nodes[e[1]]['h']\n",
    "        if random.random() < r(h1,h2):\n",
    "            new_edges.append(e)\n",
    "    g2.add_edges_from(new_edges)\n",
    "    return g2\n",
    "        \n",
    "g2 = run_sampling(g)\n",
    "g2_swap = run_sampling(g_swap)\n",
    "\n",
    "def plot_Pk(g):\n",
    "    degree_sequence = sorted([d for n, d in g.degree()], reverse=True)\n",
    "    degreeCount = collections.Counter(degree_sequence)\n",
    "    deg, cnt = zip(*degreeCount.items())\n",
    "    plt.bar(deg, cnt)\n",
    "    \n",
    "plot_Pk(g2)\n",
    "plot_Pk(g2_swap)"
   ]
  },
  {
   "cell_type": "code",
   "execution_count": null,
   "metadata": {},
   "outputs": [],
   "source": [
    "def plot_knn(g):\n",
    "    knn = nx.k_nearest_neighbors(g)\n",
    "    lists = sorted(knn.items())\n",
    "    x, y = zip(*lists)\n",
    "    plt.plot(x,y)\n",
    "\n",
    "plot_knn(g2)\n",
    "plot_knn(g2_swap)"
   ]
  },
  {
   "cell_type": "code",
   "execution_count": null,
   "metadata": {},
   "outputs": [],
   "source": [
    "def plot_ck(g):\n",
    "    ks = [v for k,v in nx.degree(g)]\n",
    "    cs = [v for k,v in nx.clustering(g).items()]\n",
    "    ck_sum = {}\n",
    "    ck_count = {}\n",
    "    for k,c in zip(ks, cs):\n",
    "        ck_sum[k] = ck_sum.get(k,0.0) + c\n",
    "        ck_count[k] = ck_count.get(k,0) + 1\n",
    "    ck = {}\n",
    "    for k,c_sum in ck_sum.items():\n",
    "        ck[k] = ck_sum[k] / ck_count[k]\n",
    "    x,y = zip(*sorted(ck.items()))\n",
    "    plt.plot(x,y)\n",
    "    \n",
    "plot_ck(g2)\n",
    "plot_ck(g2_swap)"
   ]
  },
  {
   "cell_type": "code",
   "execution_count": null,
   "metadata": {},
   "outputs": [],
   "source": [
    "np.sum( [k for i,k in nx.degree(g2_swap)] ) / len(g2_swap)"
   ]
  },
  {
   "cell_type": "code",
   "execution_count": null,
   "metadata": {},
   "outputs": [],
   "source": [
    "nx.average_clustering(g2_swap)"
   ]
  },
  {
   "cell_type": "code",
   "execution_count": null,
   "metadata": {},
   "outputs": [],
   "source": [
    "nx.classes.function.create_empty_copy(g2_swap)\n"
   ]
  },
  {
   "cell_type": "code",
   "execution_count": null,
   "metadata": {},
   "outputs": [],
   "source": []
  }
 ],
 "metadata": {
  "kernelspec": {
   "display_name": "Python 3",
   "language": "python",
   "name": "python3"
  },
  "language_info": {
   "codemirror_mode": {
    "name": "ipython",
    "version": 3
   },
   "file_extension": ".py",
   "mimetype": "text/x-python",
   "name": "python",
   "nbconvert_exporter": "python",
   "pygments_lexer": "ipython3",
   "version": "3.7.0"
  }
 },
 "nbformat": 4,
 "nbformat_minor": 2
}
