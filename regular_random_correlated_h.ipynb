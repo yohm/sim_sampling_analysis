{
 "cells": [
  {
   "cell_type": "code",
   "execution_count": null,
   "metadata": {},
   "outputs": [],
   "source": [
    "import networkx as nx\n",
    "import random\n",
    "import matplotlib.pyplot as plt\n",
    "import collections\n",
    "import numpy as np"
   ]
  },
  {
   "cell_type": "code",
   "execution_count": null,
   "metadata": {},
   "outputs": [],
   "source": [
    "N = 5000\n",
    "kappa_0 = 150\n",
    "g = nx.random_regular_graph(kappa_0, N, 1234)"
   ]
  },
  {
   "cell_type": "code",
   "execution_count": null,
   "metadata": {},
   "outputs": [],
   "source": []
  },
  {
   "cell_type": "code",
   "execution_count": null,
   "metadata": {},
   "outputs": [],
   "source": [
    "nx.average_neighbor_degree(g)[0]"
   ]
  },
  {
   "cell_type": "code",
   "execution_count": null,
   "metadata": {},
   "outputs": [],
   "source": [
    "attr = {i:(1.0 if i%2==0 else 0.0) for i in range(N)}\n",
    "nx.set_node_attributes(g, attr, \"h\")\n",
    "g.nodes[6]"
   ]
  },
  {
   "cell_type": "code",
   "execution_count": null,
   "metadata": {},
   "outputs": [],
   "source": [
    "def calc_homophily(g):\n",
    "    total = 0\n",
    "    count = 0\n",
    "    for e in g.edges:\n",
    "        total += 1\n",
    "        if g.nodes[e[0]]['h'] == g.nodes[e[1]]['h']:\n",
    "            count += 1\n",
    "    return(count, total)\n",
    "calc_homophily(g)\n",
    "\n",
    "def calc_local_homophily(g, i):\n",
    "    hi = g.nodes[i]['h']\n",
    "    total = 0\n",
    "    count = 0\n",
    "    for j in g[i]:\n",
    "        hj = g.nodes[j]['h']\n",
    "        if hi == hj:\n",
    "            count += 1\n",
    "        total += 1\n",
    "    return (count, total)\n",
    "\n",
    "calc_local_homophily(g,1)"
   ]
  },
  {
   "cell_type": "code",
   "execution_count": null,
   "metadata": {},
   "outputs": [],
   "source": [
    "# swap attributes of node i and j\n",
    "def swap_h(g, i, j):\n",
    "    temp = g.nodes[i]['h']\n",
    "    g.nodes[i]['h'] = g.nodes[j]['h']\n",
    "    g.nodes[j]['h'] = temp\n",
    "swap_h(g, 0, 1)"
   ]
  },
  {
   "cell_type": "code",
   "execution_count": null,
   "metadata": {},
   "outputs": [],
   "source": [
    "def iterate_swap(g, target_q=0.6, max_iterate=2000, seed = 9876):\n",
    "    random.seed(seed)\n",
    "    p,ne = calc_homophily(g)\n",
    "    target = ne * target_q\n",
    "    es = list(g.edges)\n",
    "    for t in range(max_iterate):\n",
    "        if p == target:\n",
    "            print(t, \"reached target\")\n",
    "            break\n",
    "        if t % 100 == 0:\n",
    "            print(t,p,target)\n",
    "        r = random.randrange(0,len(es))\n",
    "        n1,n2 = es[r]\n",
    "        if g.nodes[n1]['h'] == g.nodes[n2]['h']:\n",
    "            continue\n",
    "        pn1 = calc_local_homophily(g,n1)[0]\n",
    "        pn2 = calc_local_homophily(g,n2)[0]\n",
    "        swap_h(g,n1,n2)\n",
    "        pn1_n = calc_local_homophily(g,n1)[0]\n",
    "        pn2_n = calc_local_homophily(g,n2)[0]\n",
    "        p2 = (pn1_n-pn1) + (pn2_n-pn2)+ p\n",
    "        #print(p2,p,pn1_n,pn1,pn2_n,pn2)\n",
    "        #assert( p2 == calc_homophily(g)[0] )\n",
    "        if abs(p-target) <= abs(p2-target):\n",
    "            swap_h(g,n1,n2)  # reject the swap\n",
    "            #print(\"rejected\")\n",
    "        else:\n",
    "            #print(\"accepted\")\n",
    "            p = p2\n",
    "\n",
    "    \n",
    "iterate_swap(g,target_q=0.6, max_iterate=200000)\n",
    "p,ne = calc_homophily(g)\n",
    "p/ne"
   ]
  },
  {
   "cell_type": "code",
   "execution_count": null,
   "metadata": {},
   "outputs": [],
   "source": [
    "def run_sampling(g):\n",
    "    # r(h,h') = h*h'   i.e. sampled when h=h'=1\n",
    "    g2 = nx.Graph()\n",
    "    g2.add_nodes_from(range(N))\n",
    "    new_edges = []\n",
    "    for e in g.edges:\n",
    "        if g.nodes[e[0]]['h'] == 1 and g.nodes[e[1]]['h'] == 1:\n",
    "            new_edges.append(e)\n",
    "    g2.add_edges_from(new_edges)\n",
    "    return g2\n",
    "        \n",
    "g2 = run_sampling(g)\n",
    "\n",
    "def plot_Pk(g):\n",
    "    degree_sequence = sorted([d for n, d in g.degree()], reverse=True)\n",
    "    degreeCount = collections.Counter(degree_sequence)\n",
    "    deg, cnt = zip(*degreeCount.items())\n",
    "    plt.bar(deg, cnt)\n",
    "    \n",
    "plot_Pk(g2)"
   ]
  },
  {
   "cell_type": "code",
   "execution_count": null,
   "metadata": {},
   "outputs": [],
   "source": [
    "m = nx.degree_mixing_matrix(g2)\n",
    "#m\n",
    "pk = np.sum(m, axis=0)\n",
    "l = len(pk)\n",
    "#plt.bar(np.array(range(15)), pk )\n",
    "np.sum(m*np.array(range(l)).reshape([l,1]), axis=0) / np.sum( m, axis=0)"
   ]
  },
  {
   "cell_type": "code",
   "execution_count": null,
   "metadata": {},
   "outputs": [],
   "source": []
  }
 ],
 "metadata": {
  "kernelspec": {
   "display_name": "Python 3",
   "language": "python",
   "name": "python3"
  },
  "language_info": {
   "codemirror_mode": {
    "name": "ipython",
    "version": 3
   },
   "file_extension": ".py",
   "mimetype": "text/x-python",
   "name": "python",
   "nbconvert_exporter": "python",
   "pygments_lexer": "ipython3",
   "version": "3.7.0"
  }
 },
 "nbformat": 4,
 "nbformat_minor": 2
}
