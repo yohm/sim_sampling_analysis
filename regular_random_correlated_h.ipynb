{
 "cells": [
  {
   "cell_type": "code",
   "execution_count": 1,
   "metadata": {},
   "outputs": [],
   "source": [
    "import networkx as nx\n",
    "import random"
   ]
  },
  {
   "cell_type": "code",
   "execution_count": 2,
   "metadata": {},
   "outputs": [],
   "source": [
    "N = 500\n",
    "g = nx.random_regular_graph(15, N, 1234)"
   ]
  },
  {
   "cell_type": "code",
   "execution_count": null,
   "metadata": {},
   "outputs": [],
   "source": []
  },
  {
   "cell_type": "code",
   "execution_count": 3,
   "metadata": {},
   "outputs": [
    {
     "data": {
      "text/plain": [
       "15.0"
      ]
     },
     "execution_count": 3,
     "metadata": {},
     "output_type": "execute_result"
    }
   ],
   "source": [
    "nx.average_neighbor_degree(g)[0]"
   ]
  },
  {
   "cell_type": "code",
   "execution_count": 4,
   "metadata": {},
   "outputs": [
    {
     "data": {
      "text/plain": [
       "{'h': 1.0}"
      ]
     },
     "execution_count": 4,
     "metadata": {},
     "output_type": "execute_result"
    }
   ],
   "source": [
    "attr = {i:(1.0 if i%2==0 else 0.0) for i in range(N)}\n",
    "nx.set_node_attributes(g, attr, \"h\")\n",
    "g.nodes[6]"
   ]
  },
  {
   "cell_type": "code",
   "execution_count": 5,
   "metadata": {},
   "outputs": [
    {
     "data": {
      "text/plain": [
       "(1890, 3750)"
      ]
     },
     "execution_count": 5,
     "metadata": {},
     "output_type": "execute_result"
    }
   ],
   "source": [
    "def calc_homophily(g):\n",
    "    total = 0\n",
    "    count = 0\n",
    "    for e in g.edges:\n",
    "        total += 1\n",
    "        if g.nodes[e[0]]['h'] == g.nodes[e[1]]['h']:\n",
    "            count += 1\n",
    "    return(count, total)\n",
    "calc_homophily(g)"
   ]
  },
  {
   "cell_type": "code",
   "execution_count": 6,
   "metadata": {},
   "outputs": [],
   "source": [
    "# swap attributes of node i and j\n",
    "def swap_h(g, i, j):\n",
    "    temp = g.nodes[i]['h']\n",
    "    g.nodes[i]['h'] = g.nodes[j]['h']\n",
    "    g.nodes[j]['h'] = temp\n",
    "swap_h(g, 0, 1)"
   ]
  },
  {
   "cell_type": "code",
   "execution_count": 11,
   "metadata": {},
   "outputs": [
    {
     "data": {
      "text/plain": [
       "(2338, 3750)"
      ]
     },
     "execution_count": 11,
     "metadata": {},
     "output_type": "execute_result"
    }
   ],
   "source": [
    "def iterate_swap(g):\n",
    "    p,ne = calc_homophily(g)\n",
    "    es = list(g.edges)\n",
    "    for t in range(2000):\n",
    "        print(p)\n",
    "        r = random.randrange(0,len(es))\n",
    "        n1,n2 = es[r]\n",
    "        if g.nodes[n1]['h'] == g.nodes[n2]['h']:\n",
    "            continue\n",
    "        swap_h(g,n1,n2)\n",
    "        p2,ne = calc_homophily(g)\n",
    "        if p >= p2:\n",
    "            swap_h(g,n1,n2)  # reject the swap\n",
    "            #print(\"rejected\")\n",
    "        else:\n",
    "            #print(\"accepted\")\n",
    "            p = p2\n",
    "    \n",
    "#iterate_swap(g)\n",
    "p,ne = calc_homophily(g)\n",
    "(p,ne)"
   ]
  },
  {
   "cell_type": "code",
   "execution_count": null,
   "metadata": {},
   "outputs": [],
   "source": []
  }
 ],
 "metadata": {
  "kernelspec": {
   "display_name": "Python 3",
   "language": "python",
   "name": "python3"
  },
  "language_info": {
   "codemirror_mode": {
    "name": "ipython",
    "version": 3
   },
   "file_extension": ".py",
   "mimetype": "text/x-python",
   "name": "python",
   "nbconvert_exporter": "python",
   "pygments_lexer": "ipython3",
   "version": "3.7.0"
  }
 },
 "nbformat": 4,
 "nbformat_minor": 2
}
